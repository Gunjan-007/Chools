{
 "cells": [
  {
   "cell_type": "code",
   "execution_count": 1,
   "metadata": {},
   "outputs": [],
   "source": [
    "import pandas as pd"
   ]
  },
  {
   "cell_type": "code",
   "execution_count": 2,
   "metadata": {},
   "outputs": [],
   "source": [
    "glaxo = pd.read_csv(\"D:/Chools/GLAXO.csv\")\n",
    "beml = pd.read_csv(\"D:/Chools/Beml.csv\")"
   ]
  },
  {
   "cell_type": "code",
   "execution_count": 3,
   "metadata": {},
   "outputs": [
    {
     "data": {
      "text/html": [
       "<div>\n",
       "<style scoped>\n",
       "    .dataframe tbody tr th:only-of-type {\n",
       "        vertical-align: middle;\n",
       "    }\n",
       "\n",
       "    .dataframe tbody tr th {\n",
       "        vertical-align: top;\n",
       "    }\n",
       "\n",
       "    .dataframe thead th {\n",
       "        text-align: right;\n",
       "    }\n",
       "</style>\n",
       "<table border=\"1\" class=\"dataframe\">\n",
       "  <thead>\n",
       "    <tr style=\"text-align: right;\">\n",
       "      <th></th>\n",
       "      <th>Date</th>\n",
       "      <th>Open</th>\n",
       "      <th>High</th>\n",
       "      <th>Low</th>\n",
       "      <th>Last</th>\n",
       "      <th>Close</th>\n",
       "      <th>Total Trade Quantity</th>\n",
       "      <th>Turnover (Lacs)</th>\n",
       "    </tr>\n",
       "  </thead>\n",
       "  <tbody>\n",
       "    <tr>\n",
       "      <th>0</th>\n",
       "      <td>2010-01-04</td>\n",
       "      <td>1613.00</td>\n",
       "      <td>1629.10</td>\n",
       "      <td>1602.00</td>\n",
       "      <td>1629.0</td>\n",
       "      <td>1625.65</td>\n",
       "      <td>9365.0</td>\n",
       "      <td>151.74</td>\n",
       "    </tr>\n",
       "    <tr>\n",
       "      <th>1</th>\n",
       "      <td>2010-01-05</td>\n",
       "      <td>1639.95</td>\n",
       "      <td>1639.95</td>\n",
       "      <td>1611.05</td>\n",
       "      <td>1620.0</td>\n",
       "      <td>1616.80</td>\n",
       "      <td>38148.0</td>\n",
       "      <td>622.58</td>\n",
       "    </tr>\n",
       "    <tr>\n",
       "      <th>2</th>\n",
       "      <td>2010-01-06</td>\n",
       "      <td>1618.00</td>\n",
       "      <td>1644.00</td>\n",
       "      <td>1617.00</td>\n",
       "      <td>1639.0</td>\n",
       "      <td>1638.50</td>\n",
       "      <td>36519.0</td>\n",
       "      <td>595.09</td>\n",
       "    </tr>\n",
       "    <tr>\n",
       "      <th>3</th>\n",
       "      <td>2010-01-07</td>\n",
       "      <td>1645.00</td>\n",
       "      <td>1654.00</td>\n",
       "      <td>1636.00</td>\n",
       "      <td>1648.0</td>\n",
       "      <td>1648.70</td>\n",
       "      <td>12809.0</td>\n",
       "      <td>211.00</td>\n",
       "    </tr>\n",
       "    <tr>\n",
       "      <th>4</th>\n",
       "      <td>2010-01-08</td>\n",
       "      <td>1650.00</td>\n",
       "      <td>1650.00</td>\n",
       "      <td>1626.55</td>\n",
       "      <td>1640.0</td>\n",
       "      <td>1639.80</td>\n",
       "      <td>28035.0</td>\n",
       "      <td>459.11</td>\n",
       "    </tr>\n",
       "  </tbody>\n",
       "</table>\n",
       "</div>"
      ],
      "text/plain": [
       "         Date     Open     High      Low    Last    Close  \\\n",
       "0  2010-01-04  1613.00  1629.10  1602.00  1629.0  1625.65   \n",
       "1  2010-01-05  1639.95  1639.95  1611.05  1620.0  1616.80   \n",
       "2  2010-01-06  1618.00  1644.00  1617.00  1639.0  1638.50   \n",
       "3  2010-01-07  1645.00  1654.00  1636.00  1648.0  1648.70   \n",
       "4  2010-01-08  1650.00  1650.00  1626.55  1640.0  1639.80   \n",
       "\n",
       "   Total Trade Quantity  Turnover (Lacs)  \n",
       "0                9365.0           151.74  \n",
       "1               38148.0           622.58  \n",
       "2               36519.0           595.09  \n",
       "3               12809.0           211.00  \n",
       "4               28035.0           459.11  "
      ]
     },
     "execution_count": 3,
     "metadata": {},
     "output_type": "execute_result"
    }
   ],
   "source": [
    "glaxo.head()"
   ]
  },
  {
   "cell_type": "code",
   "execution_count": 4,
   "metadata": {},
   "outputs": [
    {
     "data": {
      "text/html": [
       "<div>\n",
       "<style scoped>\n",
       "    .dataframe tbody tr th:only-of-type {\n",
       "        vertical-align: middle;\n",
       "    }\n",
       "\n",
       "    .dataframe tbody tr th {\n",
       "        vertical-align: top;\n",
       "    }\n",
       "\n",
       "    .dataframe thead th {\n",
       "        text-align: right;\n",
       "    }\n",
       "</style>\n",
       "<table border=\"1\" class=\"dataframe\">\n",
       "  <thead>\n",
       "    <tr style=\"text-align: right;\">\n",
       "      <th></th>\n",
       "      <th>Date</th>\n",
       "      <th>Open</th>\n",
       "      <th>High</th>\n",
       "      <th>Low</th>\n",
       "      <th>Last</th>\n",
       "      <th>Close</th>\n",
       "      <th>Total Trade Quantity</th>\n",
       "      <th>Turnover (Lacs)</th>\n",
       "    </tr>\n",
       "  </thead>\n",
       "  <tbody>\n",
       "    <tr>\n",
       "      <th>0</th>\n",
       "      <td>04-01-2010</td>\n",
       "      <td>1121.0</td>\n",
       "      <td>1151.00</td>\n",
       "      <td>1121.00</td>\n",
       "      <td>1134.0</td>\n",
       "      <td>1135.60</td>\n",
       "      <td>101651</td>\n",
       "      <td>1157.18</td>\n",
       "    </tr>\n",
       "    <tr>\n",
       "      <th>1</th>\n",
       "      <td>05-01-2010</td>\n",
       "      <td>1146.8</td>\n",
       "      <td>1149.00</td>\n",
       "      <td>1128.75</td>\n",
       "      <td>1135.0</td>\n",
       "      <td>1134.60</td>\n",
       "      <td>59504</td>\n",
       "      <td>676.47</td>\n",
       "    </tr>\n",
       "    <tr>\n",
       "      <th>2</th>\n",
       "      <td>06-01-2010</td>\n",
       "      <td>1140.0</td>\n",
       "      <td>1164.25</td>\n",
       "      <td>1130.05</td>\n",
       "      <td>1137.0</td>\n",
       "      <td>1139.60</td>\n",
       "      <td>128908</td>\n",
       "      <td>1482.84</td>\n",
       "    </tr>\n",
       "    <tr>\n",
       "      <th>3</th>\n",
       "      <td>07-01-2010</td>\n",
       "      <td>1142.0</td>\n",
       "      <td>1159.40</td>\n",
       "      <td>1119.20</td>\n",
       "      <td>1141.0</td>\n",
       "      <td>1144.15</td>\n",
       "      <td>117871</td>\n",
       "      <td>1352.98</td>\n",
       "    </tr>\n",
       "    <tr>\n",
       "      <th>4</th>\n",
       "      <td>08-01-2010</td>\n",
       "      <td>1156.0</td>\n",
       "      <td>1172.00</td>\n",
       "      <td>1140.00</td>\n",
       "      <td>1141.2</td>\n",
       "      <td>1144.05</td>\n",
       "      <td>170063</td>\n",
       "      <td>1971.42</td>\n",
       "    </tr>\n",
       "  </tbody>\n",
       "</table>\n",
       "</div>"
      ],
      "text/plain": [
       "         Date    Open     High      Low    Last    Close  \\\n",
       "0  04-01-2010  1121.0  1151.00  1121.00  1134.0  1135.60   \n",
       "1  05-01-2010  1146.8  1149.00  1128.75  1135.0  1134.60   \n",
       "2  06-01-2010  1140.0  1164.25  1130.05  1137.0  1139.60   \n",
       "3  07-01-2010  1142.0  1159.40  1119.20  1141.0  1144.15   \n",
       "4  08-01-2010  1156.0  1172.00  1140.00  1141.2  1144.05   \n",
       "\n",
       "   Total Trade Quantity  Turnover (Lacs)  \n",
       "0                101651          1157.18  \n",
       "1                 59504           676.47  \n",
       "2                128908          1482.84  \n",
       "3                117871          1352.98  \n",
       "4                170063          1971.42  "
      ]
     },
     "execution_count": 4,
     "metadata": {},
     "output_type": "execute_result"
    }
   ],
   "source": [
    "beml.head()"
   ]
  },
  {
   "cell_type": "markdown",
   "metadata": {},
   "source": [
    "### Calculate the daily rate of return\n",
    "#### Display the DataFrame with the calculated daily rate of return"
   ]
  },
  {
   "cell_type": "code",
   "execution_count": 5,
   "metadata": {},
   "outputs": [
    {
     "name": "stdout",
     "output_type": "stream",
     "text": [
      "            Date    Close  Daily_Return\n",
      "0     2010-01-04  1625.65           NaN\n",
      "1     2010-01-05  1616.80     -0.544398\n",
      "2     2010-01-06  1638.50      1.342157\n",
      "3     2010-01-07  1648.70      0.622521\n",
      "4     2010-01-08  1639.80     -0.539819\n",
      "...          ...      ...           ...\n",
      "1734  2016-12-26  2723.50     -0.128346\n",
      "1735  2016-12-27  2701.75     -0.798605\n",
      "1736  2016-12-28  2702.15      0.014805\n",
      "1737  2016-12-29  2727.90      0.952945\n",
      "1738  2016-12-30  2729.80      0.069651\n",
      "\n",
      "[1739 rows x 3 columns]\n"
     ]
    }
   ],
   "source": [
    "glaxo[\"Daily_Return\"] = (glaxo[\"Close\"].pct_change()*100)\n",
    "print(glaxo[[\"Date\",\"Close\",\"Daily_Return\"]])"
   ]
  },
  {
   "cell_type": "code",
   "execution_count": 6,
   "metadata": {},
   "outputs": [
    {
     "name": "stdout",
     "output_type": "stream",
     "text": [
      "            Date    Close  Daily_Return\n",
      "0     04-01-2010  1135.60           NaN\n",
      "1     05-01-2010  1134.60     -0.088059\n",
      "2     06-01-2010  1139.60      0.440684\n",
      "3     07-01-2010  1144.15      0.399263\n",
      "4     08-01-2010  1144.05     -0.008740\n",
      "...          ...      ...           ...\n",
      "1734  26-12-2016   950.25     -2.192373\n",
      "1735  27-12-2016   975.70      2.678243\n",
      "1736  28-12-2016   974.40     -0.133238\n",
      "1737  29-12-2016   986.05      1.195608\n",
      "1738  30-12-2016  1000.60      1.475584\n",
      "\n",
      "[1739 rows x 3 columns]\n"
     ]
    }
   ],
   "source": [
    "beml[\"Daily_Return\"] = (beml[\"Close\"].pct_change()*100)\n",
    "print(beml[[\"Date\",\"Close\",\"Daily_Return\"]])"
   ]
  },
  {
   "cell_type": "markdown",
   "metadata": {},
   "source": [
    "### Calculate standard deviation of daily returns for each stock"
   ]
  },
  {
   "cell_type": "code",
   "execution_count": 7,
   "metadata": {},
   "outputs": [],
   "source": [
    "Volatility_glaxo = glaxo['Daily_Return'].std()\n",
    "Volatility_beml = beml['Daily_Return'].std()"
   ]
  },
  {
   "cell_type": "markdown",
   "metadata": {},
   "source": [
    "### Display the standard deviation of daily returns for both stocks"
   ]
  },
  {
   "cell_type": "code",
   "execution_count": 8,
   "metadata": {},
   "outputs": [
    {
     "name": "stdout",
     "output_type": "stream",
     "text": [
      "Volatility for glaxo : 1.3360538552253338\n",
      "Volatility for beml : 2.6430831468474874\n"
     ]
    }
   ],
   "source": [
    "print(\"Volatility for glaxo :\", Volatility_glaxo)\n",
    "print(\"Volatility for beml :\", Volatility_beml)"
   ]
  },
  {
   "cell_type": "markdown",
   "metadata": {},
   "source": [
    "### Compare and identify the stock with higher volatility"
   ]
  },
  {
   "cell_type": "code",
   "execution_count": 9,
   "metadata": {},
   "outputs": [
    {
     "name": "stdout",
     "output_type": "stream",
     "text": [
      "Beml has higher volatility.\n"
     ]
    }
   ],
   "source": [
    "if Volatility_glaxo > Volatility_beml:\n",
    "    print(\"Glaxo has higher volatility.\")\n",
    "elif Volatility_glaxo < Volatility_beml:\n",
    "    print(\"Beml has higher volatility.\")\n",
    "else:\n",
    "    print(\"Both Stock have same volatility\")"
   ]
  },
  {
   "cell_type": "markdown",
   "metadata": {},
   "source": [
    "### Calculate the percentage of days with a daily return of 2% or more for each stock"
   ]
  },
  {
   "cell_type": "code",
   "execution_count": 10,
   "metadata": {},
   "outputs": [],
   "source": [
    "prob_glaxo = (glaxo['Daily_Return']>= 2).mean()*100\n",
    "prob_beml = (beml['Daily_Return']>= 2).mean()*100"
   ]
  },
  {
   "cell_type": "markdown",
   "metadata": {},
   "source": [
    "### Display the probabilities for both stocks"
   ]
  },
  {
   "cell_type": "code",
   "execution_count": 11,
   "metadata": {},
   "outputs": [
    {
     "name": "stdout",
     "output_type": "stream",
     "text": [
      "Probabi1ity of a daily loss 2% for glaxo: 4.945370902817711 %\n",
      "Probabi1ity of a daily loss 2% for beml: 14.951121334100057 %\n"
     ]
    }
   ],
   "source": [
    "print(\"Probabi1ity of a daily loss 2% for glaxo:\", prob_glaxo,\"%\")\n",
    "print(\"Probabi1ity of a daily loss 2% for beml:\", prob_beml,\"%\")"
   ]
  },
  {
   "cell_type": "markdown",
   "metadata": {},
   "source": [
    "### Compare and identify the stock with a higher probability"
   ]
  },
  {
   "cell_type": "code",
   "execution_count": 12,
   "metadata": {},
   "outputs": [
    {
     "name": "stdout",
     "output_type": "stream",
     "text": [
      "Beml has a higher Probability of a daily return of 2% or more\n"
     ]
    }
   ],
   "source": [
    "if prob_glaxo > prob_beml:\n",
    "    print(\"Glaxo has a higher Probability of a daily return of 2% or more\")\n",
    "elif prob_glaxo < prob_beml:\n",
    "    print(\"Beml has a higher Probability of a daily return of 2% or more\")\n",
    "else:\n",
    "    print(\"Both the stocks has higher Probability of a daily return of 2% or more\")"
   ]
  },
  {
   "cell_type": "markdown",
   "metadata": {},
   "source": [
    "### Calculate the percentage of days with a daily return less than -2% for each stock"
   ]
  },
  {
   "cell_type": "code",
   "execution_count": 13,
   "metadata": {},
   "outputs": [],
   "source": [
    "prob_loss_glaxo = (glaxo['Daily_Return']<= -2).mean()*100\n",
    "prob_loss_beml = (beml['Daily_Return']<= -2).mean()*100"
   ]
  },
  {
   "cell_type": "markdown",
   "metadata": {},
   "source": [
    "### Display the probabilities of a loss of 2% or more for both stocks"
   ]
  },
  {
   "cell_type": "code",
   "execution_count": 14,
   "metadata": {},
   "outputs": [
    {
     "name": "stdout",
     "output_type": "stream",
     "text": [
      "Probability of a daily loss >= 2% for Glaxo: 4.427832087406555 %\n",
      "Probability of a daily loss >= 2% for Beml: 16.216216216216218 %\n"
     ]
    }
   ],
   "source": [
    "print(\"Probability of a daily loss >= 2% for Glaxo:\", prob_loss_glaxo,\"%\")\n",
    "print(\"Probability of a daily loss >= 2% for Beml:\", prob_loss_beml,\"%\")"
   ]
  },
  {
   "cell_type": "markdown",
   "metadata": {},
   "source": [
    "### Compare and identify the stock with a higher probability of a loss"
   ]
  },
  {
   "cell_type": "code",
   "execution_count": 15,
   "metadata": {},
   "outputs": [
    {
     "name": "stdout",
     "output_type": "stream",
     "text": [
      "Probability of a daily loss >= 2% for Beml: 14.951121334100057\n"
     ]
    }
   ],
   "source": [
    "if prob_loss_glaxo > prob_loss_beml:\n",
    "    print(\"Probability of a daily loss >= 2% for Glaxo:\", prob_glaxo)\n",
    "elif prob_loss_glaxo < prob_loss_beml:\n",
    "    print(\"Probability of a daily loss >= 2% for Beml:\", prob_beml)    \n",
    "else:\n",
    "    print(\"Both the stocks has the same Probability of a daily return of 2% or more\")"
   ]
  },
  {
   "cell_type": "code",
   "execution_count": null,
   "metadata": {},
   "outputs": [],
   "source": []
  },
  {
   "cell_type": "code",
   "execution_count": null,
   "metadata": {},
   "outputs": [],
   "source": []
  }
 ],
 "metadata": {
  "kernelspec": {
   "display_name": "Python 3",
   "language": "python",
   "name": "python3"
  },
  "language_info": {
   "codemirror_mode": {
    "name": "ipython",
    "version": 3
   },
   "file_extension": ".py",
   "mimetype": "text/x-python",
   "name": "python",
   "nbconvert_exporter": "python",
   "pygments_lexer": "ipython3",
   "version": "3.12.1"
  }
 },
 "nbformat": 4,
 "nbformat_minor": 2
}
