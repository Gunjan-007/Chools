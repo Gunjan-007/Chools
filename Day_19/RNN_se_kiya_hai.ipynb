{
  "cells": [
    {
      "cell_type": "code",
      "execution_count": 1,
      "metadata": {
        "id": "TUlnbjVOF-yT"
      },
      "outputs": [],
      "source": [
        "import numpy as np\n",
        "import pandas as pd\n",
        "import matplotlib.pyplot as plt\n",
        "import seaborn as sns\n",
        "from tensorflow.keras.models import Sequential\n",
        "from tensorflow.keras.layers import SimpleRNN, Dense\n",
        "from sklearn.model_selection import train_test_split\n",
        "from sklearn.preprocessing import StandardScaler\n",
        "from sklearn.metrics import mean_squared_error\n",
        "from scipy.stats.mstats import winsorize\n"
      ]
    },
    {
      "cell_type": "code",
      "execution_count": 2,
      "metadata": {
        "id": "yiLSk3OAGYRt"
      },
      "outputs": [],
      "source": [
        "df = pd.read_csv('D:\\Chools\\Day_19\\insurance.csv')"
      ]
    },
    {
      "cell_type": "code",
      "execution_count": 3,
      "metadata": {
        "colab": {
          "base_uri": "https://localhost:8080/",
          "height": 206
        },
        "id": "Ni1Br_pxGt8f",
        "outputId": "7f339845-aafe-4b3b-ee06-b58b31ca1f97"
      },
      "outputs": [
        {
          "data": {
            "text/html": [
              "<div>\n",
              "<style scoped>\n",
              "    .dataframe tbody tr th:only-of-type {\n",
              "        vertical-align: middle;\n",
              "    }\n",
              "\n",
              "    .dataframe tbody tr th {\n",
              "        vertical-align: top;\n",
              "    }\n",
              "\n",
              "    .dataframe thead th {\n",
              "        text-align: right;\n",
              "    }\n",
              "</style>\n",
              "<table border=\"1\" class=\"dataframe\">\n",
              "  <thead>\n",
              "    <tr style=\"text-align: right;\">\n",
              "      <th></th>\n",
              "      <th>age</th>\n",
              "      <th>sex</th>\n",
              "      <th>bmi</th>\n",
              "      <th>children</th>\n",
              "      <th>smoker</th>\n",
              "      <th>region</th>\n",
              "      <th>charges</th>\n",
              "    </tr>\n",
              "  </thead>\n",
              "  <tbody>\n",
              "    <tr>\n",
              "      <th>0</th>\n",
              "      <td>19</td>\n",
              "      <td>female</td>\n",
              "      <td>27.900</td>\n",
              "      <td>0</td>\n",
              "      <td>yes</td>\n",
              "      <td>southwest</td>\n",
              "      <td>16884.92400</td>\n",
              "    </tr>\n",
              "    <tr>\n",
              "      <th>1</th>\n",
              "      <td>18</td>\n",
              "      <td>male</td>\n",
              "      <td>33.770</td>\n",
              "      <td>1</td>\n",
              "      <td>no</td>\n",
              "      <td>southeast</td>\n",
              "      <td>1725.55230</td>\n",
              "    </tr>\n",
              "    <tr>\n",
              "      <th>2</th>\n",
              "      <td>28</td>\n",
              "      <td>male</td>\n",
              "      <td>33.000</td>\n",
              "      <td>3</td>\n",
              "      <td>no</td>\n",
              "      <td>southeast</td>\n",
              "      <td>4449.46200</td>\n",
              "    </tr>\n",
              "    <tr>\n",
              "      <th>3</th>\n",
              "      <td>33</td>\n",
              "      <td>male</td>\n",
              "      <td>22.705</td>\n",
              "      <td>0</td>\n",
              "      <td>no</td>\n",
              "      <td>northwest</td>\n",
              "      <td>21984.47061</td>\n",
              "    </tr>\n",
              "    <tr>\n",
              "      <th>4</th>\n",
              "      <td>32</td>\n",
              "      <td>male</td>\n",
              "      <td>28.880</td>\n",
              "      <td>0</td>\n",
              "      <td>no</td>\n",
              "      <td>northwest</td>\n",
              "      <td>3866.85520</td>\n",
              "    </tr>\n",
              "  </tbody>\n",
              "</table>\n",
              "</div>"
            ],
            "text/plain": [
              "   age     sex     bmi  children smoker     region      charges\n",
              "0   19  female  27.900         0    yes  southwest  16884.92400\n",
              "1   18    male  33.770         1     no  southeast   1725.55230\n",
              "2   28    male  33.000         3     no  southeast   4449.46200\n",
              "3   33    male  22.705         0     no  northwest  21984.47061\n",
              "4   32    male  28.880         0     no  northwest   3866.85520"
            ]
          },
          "execution_count": 3,
          "metadata": {},
          "output_type": "execute_result"
        }
      ],
      "source": [
        "df.head()"
      ]
    },
    {
      "cell_type": "code",
      "execution_count": 4,
      "metadata": {
        "colab": {
          "base_uri": "https://localhost:8080/"
        },
        "id": "4PL33YPcGvKd",
        "outputId": "26a28b99-bdb9-46e8-af85-9aab8d4a92de"
      },
      "outputs": [
        {
          "name": "stdout",
          "output_type": "stream",
          "text": [
            "<class 'pandas.core.frame.DataFrame'>\n",
            "RangeIndex: 1338 entries, 0 to 1337\n",
            "Data columns (total 7 columns):\n",
            " #   Column    Non-Null Count  Dtype  \n",
            "---  ------    --------------  -----  \n",
            " 0   age       1338 non-null   int64  \n",
            " 1   sex       1338 non-null   object \n",
            " 2   bmi       1338 non-null   float64\n",
            " 3   children  1338 non-null   int64  \n",
            " 4   smoker    1338 non-null   object \n",
            " 5   region    1338 non-null   object \n",
            " 6   charges   1338 non-null   float64\n",
            "dtypes: float64(2), int64(2), object(3)\n",
            "memory usage: 73.3+ KB\n"
          ]
        }
      ],
      "source": [
        "df.info()"
      ]
    },
    {
      "cell_type": "code",
      "execution_count": 5,
      "metadata": {
        "colab": {
          "base_uri": "https://localhost:8080/",
          "height": 447
        },
        "id": "8LFg2QaFGwHX",
        "outputId": "6de859a4-f543-4989-ca99-300666253a67"
      },
      "outputs": [
        {
          "data": {
            "text/plain": [
              "<Axes: >"
            ]
          },
          "execution_count": 5,
          "metadata": {},
          "output_type": "execute_result"
        },
        {
          "data": {
            "image/png": "[encoded data removed]",
            "text/plain": [
              "<Figure size 640x480 with 1 Axes>"
            ]
          },
          "metadata": {},
          "output_type": "display_data"
        }
      ],
      "source": [
        "sns.boxplot(df)"
      ]
    },
    {
      "cell_type": "code",
      "execution_count": 6,
      "metadata": {
        "id": "RSQK7Vl1J8B1"
      },
      "outputs": [],
      "source": [
        "df['charges'] = np.log1p(df['charges'])"
      ]
    },
    {
      "cell_type": "code",
      "execution_count": 7,
      "metadata": {
        "id": "YyszjpPaGzXQ"
      },
      "outputs": [],
      "source": [
        "df = pd.get_dummies(df, columns=[\"sex\", \"smoker\", \"region\"])"
      ]
    },
    {
      "cell_type": "code",
      "execution_count": 8,
      "metadata": {
        "colab": {
          "base_uri": "https://localhost:8080/",
          "height": 443
        },
        "id": "P7UaSNjLHmvJ",
        "outputId": "f2a4cce5-8356-4cbe-ca71-5345c2957dbd"
      },
      "outputs": [
        {
          "data": {
            "text/html": [
              "<div>\n",
              "<style scoped>\n",
              "    .dataframe tbody tr th:only-of-type {\n",
              "        vertical-align: middle;\n",
              "    }\n",
              "\n",
              "    .dataframe tbody tr th {\n",
              "        vertical-align: top;\n",
              "    }\n",
              "\n",
              "    .dataframe thead th {\n",
              "        text-align: right;\n",
              "    }\n",
              "</style>\n",
              "<table border=\"1\" class=\"dataframe\">\n",
              "  <thead>\n",
              "    <tr style=\"text-align: right;\">\n",
              "      <th></th>\n",
              "      <th>age</th>\n",
              "      <th>bmi</th>\n",
              "      <th>children</th>\n",
              "      <th>charges</th>\n",
              "      <th>sex_female</th>\n",
              "      <th>sex_male</th>\n",
              "      <th>smoker_no</th>\n",
              "      <th>smoker_yes</th>\n",
              "      <th>region_northeast</th>\n",
              "      <th>region_northwest</th>\n",
              "      <th>region_southeast</th>\n",
              "      <th>region_southwest</th>\n",
              "    </tr>\n",
              "  </thead>\n",
              "  <tbody>\n",
              "    <tr>\n",
              "      <th>0</th>\n",
              "      <td>19</td>\n",
              "      <td>27.900</td>\n",
              "      <td>0</td>\n",
              "      <td>9.734236</td>\n",
              "      <td>True</td>\n",
              "      <td>False</td>\n",
              "      <td>False</td>\n",
              "      <td>True</td>\n",
              "      <td>False</td>\n",
              "      <td>False</td>\n",
              "      <td>False</td>\n",
              "      <td>True</td>\n",
              "    </tr>\n",
              "    <tr>\n",
              "      <th>1</th>\n",
              "      <td>18</td>\n",
              "      <td>33.770</td>\n",
              "      <td>1</td>\n",
              "      <td>7.453882</td>\n",
              "      <td>False</td>\n",
              "      <td>True</td>\n",
              "      <td>True</td>\n",
              "      <td>False</td>\n",
              "      <td>False</td>\n",
              "      <td>False</td>\n",
              "      <td>True</td>\n",
              "      <td>False</td>\n",
              "    </tr>\n",
              "    <tr>\n",
              "      <th>2</th>\n",
              "      <td>28</td>\n",
              "      <td>33.000</td>\n",
              "      <td>3</td>\n",
              "      <td>8.400763</td>\n",
              "      <td>False</td>\n",
              "      <td>True</td>\n",
              "      <td>True</td>\n",
              "      <td>False</td>\n",
              "      <td>False</td>\n",
              "      <td>False</td>\n",
              "      <td>True</td>\n",
              "      <td>False</td>\n",
              "    </tr>\n",
              "    <tr>\n",
              "      <th>3</th>\n",
              "      <td>33</td>\n",
              "      <td>22.705</td>\n",
              "      <td>0</td>\n",
              "      <td>9.998137</td>\n",
              "      <td>False</td>\n",
              "      <td>True</td>\n",
              "      <td>True</td>\n",
              "      <td>False</td>\n",
              "      <td>False</td>\n",
              "      <td>True</td>\n",
              "      <td>False</td>\n",
              "      <td>False</td>\n",
              "    </tr>\n",
              "    <tr>\n",
              "      <th>4</th>\n",
              "      <td>32</td>\n",
              "      <td>28.880</td>\n",
              "      <td>0</td>\n",
              "      <td>8.260455</td>\n",
              "      <td>False</td>\n",
              "      <td>True</td>\n",
              "      <td>True</td>\n",
              "      <td>False</td>\n",
              "      <td>False</td>\n",
              "      <td>True</td>\n",
              "      <td>False</td>\n",
              "      <td>False</td>\n",
              "    </tr>\n",
              "    <tr>\n",
              "      <th>...</th>\n",
              "      <td>...</td>\n",
              "      <td>...</td>\n",
              "      <td>...</td>\n",
              "      <td>...</td>\n",
              "      <td>...</td>\n",
              "      <td>...</td>\n",
              "      <td>...</td>\n",
              "      <td>...</td>\n",
              "      <td>...</td>\n",
              "      <td>...</td>\n",
              "      <td>...</td>\n",
              "      <td>...</td>\n",
              "    </tr>\n",
              "    <tr>\n",
              "      <th>1333</th>\n",
              "      <td>50</td>\n",
              "      <td>30.970</td>\n",
              "      <td>3</td>\n",
              "      <td>9.268755</td>\n",
              "      <td>False</td>\n",
              "      <td>True</td>\n",
              "      <td>True</td>\n",
              "      <td>False</td>\n",
              "      <td>False</td>\n",
              "      <td>True</td>\n",
              "      <td>False</td>\n",
              "      <td>False</td>\n",
              "    </tr>\n",
              "    <tr>\n",
              "      <th>1334</th>\n",
              "      <td>18</td>\n",
              "      <td>31.920</td>\n",
              "      <td>0</td>\n",
              "      <td>7.699381</td>\n",
              "      <td>True</td>\n",
              "      <td>False</td>\n",
              "      <td>True</td>\n",
              "      <td>False</td>\n",
              "      <td>True</td>\n",
              "      <td>False</td>\n",
              "      <td>False</td>\n",
              "      <td>False</td>\n",
              "    </tr>\n",
              "    <tr>\n",
              "      <th>1335</th>\n",
              "      <td>18</td>\n",
              "      <td>36.850</td>\n",
              "      <td>0</td>\n",
              "      <td>7.396847</td>\n",
              "      <td>True</td>\n",
              "      <td>False</td>\n",
              "      <td>True</td>\n",
              "      <td>False</td>\n",
              "      <td>False</td>\n",
              "      <td>False</td>\n",
              "      <td>True</td>\n",
              "      <td>False</td>\n",
              "    </tr>\n",
              "    <tr>\n",
              "      <th>1336</th>\n",
              "      <td>21</td>\n",
              "      <td>25.800</td>\n",
              "      <td>0</td>\n",
              "      <td>7.605365</td>\n",
              "      <td>True</td>\n",
              "      <td>False</td>\n",
              "      <td>True</td>\n",
              "      <td>False</td>\n",
              "      <td>False</td>\n",
              "      <td>False</td>\n",
              "      <td>False</td>\n",
              "      <td>True</td>\n",
              "    </tr>\n",
              "    <tr>\n",
              "      <th>1337</th>\n",
              "      <td>61</td>\n",
              "      <td>29.070</td>\n",
              "      <td>0</td>\n",
              "      <td>10.279948</td>\n",
              "      <td>True</td>\n",
              "      <td>False</td>\n",
              "      <td>False</td>\n",
              "      <td>True</td>\n",
              "      <td>False</td>\n",
              "      <td>True</td>\n",
              "      <td>False</td>\n",
              "      <td>False</td>\n",
              "    </tr>\n",
              "  </tbody>\n",
              "</table>\n",
              "<p>1338 rows × 12 columns</p>\n",
              "</div>"
            ],
            "text/plain": [
              "      age     bmi  children    charges  sex_female  sex_male  smoker_no  \\\n",
              "0      19  27.900         0   9.734236        True     False      False   \n",
              "1      18  33.770         1   7.453882       False      True       True   \n",
              "2      28  33.000         3   8.400763       False      True       True   \n",
              "3      33  22.705         0   9.998137       False      True       True   \n",
              "4      32  28.880         0   8.260455       False      True       True   \n",
              "...   ...     ...       ...        ...         ...       ...        ...   \n",
              "1333   50  30.970         3   9.268755       False      True       True   \n",
              "1334   18  31.920         0   7.699381        True     False       True   \n",
              "1335   18  36.850         0   7.396847        True     False       True   \n",
              "1336   21  25.800         0   7.605365        True     False       True   \n",
              "1337   61  29.070         0  10.279948        True     False      False   \n",
              "\n",
              "      smoker_yes  region_northeast  region_northwest  region_southeast  \\\n",
              "0           True             False             False             False   \n",
              "1          False             False             False              True   \n",
              "2          False             False             False              True   \n",
              "3          False             False              True             False   \n",
              "4          False             False              True             False   \n",
              "...          ...               ...               ...               ...   \n",
              "1333       False             False              True             False   \n",
              "1334       False              True             False             False   \n",
              "1335       False             False             False              True   \n",
              "1336       False             False             False             False   \n",
              "1337        True             False              True             False   \n",
              "\n",
              "      region_southwest  \n",
              "0                 True  \n",
              "1                False  \n",
              "2                False  \n",
              "3                False  \n",
              "4                False  \n",
              "...                ...  \n",
              "1333             False  \n",
              "1334             False  \n",
              "1335             False  \n",
              "1336              True  \n",
              "1337             False  \n",
              "\n",
              "[1338 rows x 12 columns]"
            ]
          },
          "execution_count": 8,
          "metadata": {},
          "output_type": "execute_result"
        }
      ],
      "source": [
        "df"
      ]
    },
    {
      "cell_type": "code",
      "execution_count": 9,
      "metadata": {
        "id": "BwY1hzR7HpK3"
      },
      "outputs": [],
      "source": [
        "X = df.drop(columns=[\"charges\"])\n",
        "y = df[\"charges\"]"
      ]
    },
    {
      "cell_type": "code",
      "execution_count": 10,
      "metadata": {
        "id": "7claSYO1HuRc"
      },
      "outputs": [],
      "source": [
        "X_train, X_test, y_train, y_test = train_test_split(X, y, test_size=0.2, random_state=42)\n"
      ]
    },
    {
      "cell_type": "code",
      "execution_count": 11,
      "metadata": {
        "id": "M9YWsYdlHxpn"
      },
      "outputs": [],
      "source": [
        "scaler = StandardScaler()\n",
        "X_train_scaled = scaler.fit_transform(X_train)\n",
        "X_test_scaled = scaler.transform(X_test)\n"
      ]
    },
    {
      "cell_type": "code",
      "execution_count": 12,
      "metadata": {
        "id": "4k62cF2bH0zQ"
      },
      "outputs": [],
      "source": [
        "model = Sequential()\n",
        "model.add(SimpleRNN(64, activation='relu', input_shape=(X_train_scaled.shape[1], 1)))\n",
        "model.add(Dense(1))\n"
      ]
    },
    {
      "cell_type": "code",
      "execution_count": 13,
      "metadata": {
        "id": "toNaUhSRH3pH"
      },
      "outputs": [],
      "source": [
        "model.compile(optimizer='adam', loss='mse')\n"
      ]
    },
    {
      "cell_type": "code",
      "execution_count": 14,
      "metadata": {
        "id": "oC2O6wCSH-H-"
      },
      "outputs": [],
      "source": [
        "X_train_scaled = X_train_scaled.reshape((X_train_scaled.shape[0], X_train_scaled.shape[1], 1))\n",
        "X_test_scaled = X_test_scaled.reshape((X_test_scaled.shape[0], X_test_scaled.shape[1], 1))\n"
      ]
    },
    {
      "cell_type": "code",
      "execution_count": 15,
      "metadata": {
        "colab": {
          "base_uri": "https://localhost:8080/"
        },
        "id": "1_nSRfcFIBAc",
        "outputId": "016f5b27-90d0-4a78-bb65-0ae55503b5ca"
      },
      "outputs": [
        {
          "name": "stdout",
          "output_type": "stream",
          "text": [
            "Epoch 1/100\n",
            "34/34 [==============================] - 1s 2ms/step - loss: 43.6566\n",
            "Epoch 2/100\n",
            "34/34 [==============================] - 0s 2ms/step - loss: 3.0899\n",
            "Epoch 3/100\n",
            "34/34 [==============================] - 0s 2ms/step - loss: 1.8449\n",
            "Epoch 4/100\n",
            "34/34 [==============================] - 0s 2ms/step - loss: 1.3564\n",
            "Epoch 5/100\n",
            "34/34 [==============================] - 0s 2ms/step - loss: 1.0069\n",
            "Epoch 6/100\n",
            "34/34 [==============================] - 0s 3ms/step - loss: 0.7407\n",
            "Epoch 7/100\n",
            "34/34 [==============================] - 0s 2ms/step - loss: 0.5373\n",
            "Epoch 8/100\n",
            "34/34 [==============================] - 0s 2ms/step - loss: 0.3413\n",
            "Epoch 9/100\n",
            "34/34 [==============================] - 0s 2ms/step - loss: 0.2396\n",
            "Epoch 10/100\n",
            "34/34 [==============================] - 0s 2ms/step - loss: 0.1993\n",
            "Epoch 11/100\n",
            "34/34 [==============================] - 0s 2ms/step - loss: 0.2228\n",
            "Epoch 12/100\n",
            "34/34 [==============================] - 0s 2ms/step - loss: 0.1908\n",
            "Epoch 13/100\n",
            "34/34 [==============================] - 0s 2ms/step - loss: 0.2132\n",
            "Epoch 14/100\n",
            "34/34 [==============================] - 0s 2ms/step - loss: 0.2194\n",
            "Epoch 15/100\n",
            "34/34 [==============================] - 0s 2ms/step - loss: 0.2193\n",
            "Epoch 16/100\n",
            "34/34 [==============================] - 0s 2ms/step - loss: 0.1853\n",
            "Epoch 17/100\n",
            "34/34 [==============================] - 0s 2ms/step - loss: 0.1714\n",
            "Epoch 18/100\n",
            "34/34 [==============================] - 0s 2ms/step - loss: 0.1695\n",
            "Epoch 19/100\n",
            "34/34 [==============================] - 0s 3ms/step - loss: 0.1667\n",
            "Epoch 20/100\n",
            "34/34 [==============================] - 0s 2ms/step - loss: 0.1811\n",
            "Epoch 21/100\n",
            "34/34 [==============================] - 0s 2ms/step - loss: 0.1807\n",
            "Epoch 22/100\n",
            "34/34 [==============================] - 0s 2ms/step - loss: 0.2074\n",
            "Epoch 23/100\n",
            "34/34 [==============================] - 0s 2ms/step - loss: 0.1632\n",
            "Epoch 24/100\n",
            "34/34 [==============================] - 0s 2ms/step - loss: 0.1606\n",
            "Epoch 25/100\n",
            "34/34 [==============================] - 0s 2ms/step - loss: 0.1661\n",
            "Epoch 26/100\n",
            "34/34 [==============================] - 0s 2ms/step - loss: 0.1504\n",
            "Epoch 27/100\n",
            "34/34 [==============================] - 0s 2ms/step - loss: 0.1676\n",
            "Epoch 28/100\n",
            "34/34 [==============================] - 0s 2ms/step - loss: 0.1560\n",
            "Epoch 29/100\n",
            "34/34 [==============================] - 0s 3ms/step - loss: 0.1938\n",
            "Epoch 30/100\n",
            "34/34 [==============================] - 0s 2ms/step - loss: 0.1783\n",
            "Epoch 31/100\n",
            "34/34 [==============================] - 0s 2ms/step - loss: 0.1655\n",
            "Epoch 32/100\n",
            "34/34 [==============================] - 0s 2ms/step - loss: 0.1557\n",
            "Epoch 33/100\n",
            "34/34 [==============================] - 0s 2ms/step - loss: 0.1534\n",
            "Epoch 34/100\n",
            "34/34 [==============================] - 0s 2ms/step - loss: 0.1643\n",
            "Epoch 35/100\n",
            "34/34 [==============================] - 0s 2ms/step - loss: 0.1725\n",
            "Epoch 36/100\n",
            "34/34 [==============================] - 0s 2ms/step - loss: 0.1813\n",
            "Epoch 37/100\n",
            "34/34 [==============================] - 0s 2ms/step - loss: 0.1430\n",
            "Epoch 38/100\n",
            "34/34 [==============================] - 0s 2ms/step - loss: 0.1450\n",
            "Epoch 39/100\n",
            "34/34 [==============================] - 0s 2ms/step - loss: 0.1477\n",
            "Epoch 40/100\n",
            "34/34 [==============================] - 0s 2ms/step - loss: 0.1413\n",
            "Epoch 41/100\n",
            "34/34 [==============================] - 0s 2ms/step - loss: 0.1505\n",
            "Epoch 42/100\n",
            "34/34 [==============================] - 0s 2ms/step - loss: 0.1399\n",
            "Epoch 43/100\n",
            "34/34 [==============================] - 0s 2ms/step - loss: 0.1530\n",
            "Epoch 44/100\n",
            "34/34 [==============================] - 0s 2ms/step - loss: 0.1550\n",
            "Epoch 45/100\n",
            "34/34 [==============================] - 0s 3ms/step - loss: 0.1898\n",
            "Epoch 46/100\n",
            "34/34 [==============================] - 0s 2ms/step - loss: 0.1698\n",
            "Epoch 47/100\n",
            "34/34 [==============================] - 0s 2ms/step - loss: 0.1489\n",
            "Epoch 48/100\n",
            "34/34 [==============================] - 0s 2ms/step - loss: 0.1512\n",
            "Epoch 49/100\n",
            "34/34 [==============================] - 0s 2ms/step - loss: 0.1394\n",
            "Epoch 50/100\n",
            "34/34 [==============================] - 0s 2ms/step - loss: 0.1463\n",
            "Epoch 51/100\n",
            "34/34 [==============================] - 0s 2ms/step - loss: 0.1610\n",
            "Epoch 52/100\n",
            "34/34 [==============================] - 0s 2ms/step - loss: 0.1454\n",
            "Epoch 53/100\n",
            "34/34 [==============================] - 0s 2ms/step - loss: 0.1545\n",
            "Epoch 54/100\n",
            "34/34 [==============================] - 0s 2ms/step - loss: 0.1545\n",
            "Epoch 55/100\n",
            "34/34 [==============================] - 0s 2ms/step - loss: 0.1592\n",
            "Epoch 56/100\n",
            "34/34 [==============================] - 0s 2ms/step - loss: 0.1433\n",
            "Epoch 57/100\n",
            "34/34 [==============================] - 0s 2ms/step - loss: 0.1797\n",
            "Epoch 58/100\n",
            "34/34 [==============================] - 0s 2ms/step - loss: 0.1445\n",
            "Epoch 59/100\n",
            "34/34 [==============================] - 0s 2ms/step - loss: 0.1405\n",
            "Epoch 60/100\n",
            "34/34 [==============================] - 0s 2ms/step - loss: 0.1457\n",
            "Epoch 61/100\n",
            "34/34 [==============================] - 0s 2ms/step - loss: 0.1417\n",
            "Epoch 62/100\n",
            "34/34 [==============================] - 0s 2ms/step - loss: 0.1309\n",
            "Epoch 63/100\n",
            "34/34 [==============================] - 0s 2ms/step - loss: 0.1402\n",
            "Epoch 64/100\n",
            "34/34 [==============================] - 0s 3ms/step - loss: 0.1406\n",
            "Epoch 65/100\n",
            "34/34 [==============================] - 0s 2ms/step - loss: 0.1352\n",
            "Epoch 66/100\n",
            "34/34 [==============================] - 0s 2ms/step - loss: 0.1417\n",
            "Epoch 67/100\n",
            "34/34 [==============================] - 0s 2ms/step - loss: 0.1471\n",
            "Epoch 68/100\n",
            "34/34 [==============================] - 0s 2ms/step - loss: 0.1614\n",
            "Epoch 69/100\n",
            "34/34 [==============================] - 0s 2ms/step - loss: 0.1273\n",
            "Epoch 70/100\n",
            "34/34 [==============================] - 0s 2ms/step - loss: 0.1497\n",
            "Epoch 71/100\n",
            "34/34 [==============================] - 0s 1ms/step - loss: 0.1622\n",
            "Epoch 72/100\n",
            "34/34 [==============================] - 0s 2ms/step - loss: 0.1368\n",
            "Epoch 73/100\n",
            "34/34 [==============================] - 0s 2ms/step - loss: 0.1554\n",
            "Epoch 74/100\n",
            "34/34 [==============================] - 0s 1ms/step - loss: 0.1302\n",
            "Epoch 75/100\n",
            "34/34 [==============================] - 0s 1ms/step - loss: 0.1322\n",
            "Epoch 76/100\n",
            "34/34 [==============================] - 0s 1ms/step - loss: 0.1990\n",
            "Epoch 77/100\n",
            "34/34 [==============================] - 0s 1ms/step - loss: 0.1539\n",
            "Epoch 78/100\n",
            "34/34 [==============================] - 0s 1ms/step - loss: 0.1394\n",
            "Epoch 79/100\n",
            "34/34 [==============================] - 0s 2ms/step - loss: 0.1476\n",
            "Epoch 80/100\n",
            "34/34 [==============================] - 0s 1ms/step - loss: 0.1356\n",
            "Epoch 81/100\n",
            "34/34 [==============================] - 0s 1ms/step - loss: 0.1355\n",
            "Epoch 82/100\n",
            "34/34 [==============================] - 0s 1ms/step - loss: 0.1366\n",
            "Epoch 83/100\n",
            "34/34 [==============================] - 0s 1ms/step - loss: 0.1307\n",
            "Epoch 84/100\n",
            "34/34 [==============================] - 0s 1ms/step - loss: 0.1285\n",
            "Epoch 85/100\n",
            "34/34 [==============================] - 0s 1ms/step - loss: 0.1345\n",
            "Epoch 86/100\n",
            "34/34 [==============================] - 0s 1ms/step - loss: 0.1457\n",
            "Epoch 87/100\n",
            "34/34 [==============================] - 0s 1ms/step - loss: 0.1375\n",
            "Epoch 88/100\n",
            "34/34 [==============================] - 0s 1ms/step - loss: 0.1383\n",
            "Epoch 89/100\n",
            "34/34 [==============================] - 0s 1ms/step - loss: 0.1441\n",
            "Epoch 90/100\n",
            "34/34 [==============================] - 0s 2ms/step - loss: 0.1830\n",
            "Epoch 91/100\n",
            "34/34 [==============================] - 0s 2ms/step - loss: 0.1779\n",
            "Epoch 92/100\n",
            "34/34 [==============================] - 0s 2ms/step - loss: 0.1410\n",
            "Epoch 93/100\n",
            "34/34 [==============================] - 0s 2ms/step - loss: 0.1711\n",
            "Epoch 94/100\n",
            "34/34 [==============================] - 0s 1ms/step - loss: 0.1346\n",
            "Epoch 95/100\n",
            "34/34 [==============================] - 0s 1ms/step - loss: 0.1305\n",
            "Epoch 96/100\n",
            "34/34 [==============================] - 0s 1ms/step - loss: 0.1393\n",
            "Epoch 97/100\n",
            "34/34 [==============================] - 0s 2ms/step - loss: 0.1514\n",
            "Epoch 98/100\n",
            "34/34 [==============================] - 0s 1ms/step - loss: 0.1263\n",
            "Epoch 99/100\n",
            "34/34 [==============================] - 0s 1ms/step - loss: 0.1418\n",
            "Epoch 100/100\n",
            "34/34 [==============================] - 0s 1ms/step - loss: 0.1296\n"
          ]
        },
        {
          "data": {
            "text/plain": [
              "<keras.callbacks.History at 0x2620c8c4f90>"
            ]
          },
          "execution_count": 15,
          "metadata": {},
          "output_type": "execute_result"
        }
      ],
      "source": [
        "model.fit(X_train_scaled, y_train, epochs=100, batch_size=32, verbose=1)\n"
      ]
    },
    {
      "cell_type": "code",
      "execution_count": 16,
      "metadata": {
        "colab": {
          "base_uri": "https://localhost:8080/"
        },
        "id": "_dMLgbViIDpo",
        "outputId": "e181ccd8-bae4-465c-b088-ead55eda7934"
      },
      "outputs": [
        {
          "name": "stdout",
          "output_type": "stream",
          "text": [
            "9/9 [==============================] - 0s 956us/step\n",
            "Mean Squared Error: 0.1469034549334003\n"
          ]
        }
      ],
      "source": [
        "y_pred = model.predict(X_test_scaled)\n",
        "mse = mean_squared_error(y_test, y_pred)\n",
        "print(\"Mean Squared Error:\", mse)"
      ]
    },
    {
      "cell_type": "code",
      "execution_count": 17,
      "metadata": {
        "id": "7nPiRHHLIOhC"
      },
      "outputs": [
        {
          "data": {
            "image/png": "[encoded data removed]",
            "text/plain": [
              "<Figure size 1000x600 with 1 Axes>"
            ]
          },
          "metadata": {},
          "output_type": "display_data"
        }
      ],
      "source": [
        "y_pred_inverse = np.expm1(y_pred.flatten())  \n",
        "y_test_inverse = np.expm1(y_test.values)  \n",
        "\n",
        "# Plot results\n",
        "plt.figure(figsize=(10, 6))\n",
        "plt.scatter(y_test_inverse, y_pred_inverse, color='blue')\n",
        "plt.plot([min(y_test_inverse), max(y_test_inverse)], [min(y_test_inverse), max(y_test_inverse)], color='red', linestyle='--')\n",
        "plt.xlabel('Actual Charges')\n",
        "plt.ylabel('Predicted Charges')\n",
        "plt.title('Actual vs Predicted Charges')\n",
        "plt.show()"
      ]
    },
    {
      "cell_type": "code",
      "execution_count": 18,
      "metadata": {},
      "outputs": [
        {
          "data": {
            "image/png": "[encoded data removed]",
            "text/plain": [
              "<Figure size 1000x600 with 1 Axes>"
            ]
          },
          "metadata": {},
          "output_type": "display_data"
        }
      ],
      "source": [
        "residuals = y_test_inverse - y_pred_inverse\n",
        "\n",
        "# Plot residuals\n",
        "plt.figure(figsize=(10, 6))\n",
        "plt.scatter(y_pred_inverse, residuals, color='blue')\n",
        "plt.axhline(y=0, color='red', linestyle='--')\n",
        "plt.xlabel('Predicted Charges')\n",
        "plt.ylabel('Residuals')\n",
        "plt.title('Residual Plot')\n",
        "plt.show()"
      ]
    }
  ],
  "metadata": {
    "colab": {
      "provenance": []
    },
    "kernelspec": {
      "display_name": "Python 3",
      "name": "python3"
    },
    "language_info": {
      "codemirror_mode": {
        "name": "ipython",
        "version": 3
      },
      "file_extension": ".py",
      "mimetype": "text/x-python",
      "name": "python",
      "nbconvert_exporter": "python",
      "pygments_lexer": "ipython3",
      "version": "3.11.6"
    }
  },
  "nbformat": 4,
  "nbformat_minor": 0
}
